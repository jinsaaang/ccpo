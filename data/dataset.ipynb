{
 "cells": [
  {
   "cell_type": "code",
   "execution_count": 15,
   "id": "d09b3c7f",
   "metadata": {},
   "outputs": [],
   "source": [
    "import numpy as np\n",
    "import pandas as pd\n",
    "import pandas_datareader.data as web\n",
    "from datetime import datetime\n",
    "import yfinance as yf\n",
    "import warnings\n",
    "warnings.filterwarnings('ignore')"
   ]
  },
  {
   "cell_type": "code",
   "execution_count": null,
   "id": "6656d954",
   "metadata": {},
   "outputs": [
    {
     "name": "stdout",
     "output_type": "stream",
     "text": [
      "Downloading Fama-French factors (weekly)...\n",
      "Factors data shape: (20, 8)\n",
      "Date range: 2005 to 2024\n",
      "\n",
      "Factors preview:\n",
      "      Mkt-RF   SMB    HML    RMW   CMA    RF    Mom  ST_Rev\n",
      "Date                                                       \n",
      "2005    3.14 -0.81   9.36   1.49 -4.81  2.98  14.91   -1.36\n",
      "2006   10.58  1.59  11.71   3.41  8.52  4.80  -7.70    5.98\n",
      "2007    1.07 -8.42 -16.92   4.51 -7.36  4.66  21.80  -16.43\n",
      "2008  -38.25  2.96   1.24  14.86  3.11  1.60  13.80   -5.67\n",
      "2009   28.35  7.94  -8.22   2.51 -1.27  0.10 -83.81    0.10\n",
      "Factors data shape: (20, 8)\n",
      "Date range: 2005 to 2024\n",
      "\n",
      "Factors preview:\n",
      "      Mkt-RF   SMB    HML    RMW   CMA    RF    Mom  ST_Rev\n",
      "Date                                                       \n",
      "2005    3.14 -0.81   9.36   1.49 -4.81  2.98  14.91   -1.36\n",
      "2006   10.58  1.59  11.71   3.41  8.52  4.80  -7.70    5.98\n",
      "2007    1.07 -8.42 -16.92   4.51 -7.36  4.66  21.80  -16.43\n",
      "2008  -38.25  2.96   1.24  14.86  3.11  1.60  13.80   -5.67\n",
      "2009   28.35  7.94  -8.22   2.51 -1.27  0.10 -83.81    0.10\n"
     ]
    }
   ],
   "source": [
    "# Fama-French 5팩터 + Momentum + Short-term Reversal 다운로드 (일별 데이터)\n",
    "print(\"Downloading Fama-French factors (daily)...\")\n",
    "\n",
    "# 시작 날짜 설정\n",
    "start_date = datetime(2005, 1, 1)\n",
    "end_date = datetime(2024, 12, 31) \n",
    "\n",
    "# Fama-French 5팩터 다운로드 (일별)\n",
    "ff5_factors = web.DataReader('F-F_Research_Data_5_Factors_2x3_daily', 'famafrench', start_date, end_date)[0]\n",
    "\n",
    "# Momentum 팩터 다운로드 (일별)\n",
    "momentum = web.DataReader('F-F_Momentum_Factor_daily', 'famafrench', start_date, end_date)[0]\n",
    "\n",
    "# Short-term Reversal 팩터 다운로드 (일별)\n",
    "st_reversal = web.DataReader('F-F_ST_Reversal_Factor_daily', 'famafrench', start_date, end_date)[0]\n",
    "\n",
    "# 데이터 병합\n",
    "factors = ff5_factors.join(momentum).join(st_reversal)\n",
    "factors.columns = ['Mkt-RF', 'SMB', 'HML', 'RMW', 'CMA', 'RF', 'Mom', 'ST_Rev']\n",
    "\n",
    "# 날짜 인덱스를 날짜 형식으로 변환\n",
    "factors.index = pd.to_datetime(factors.index, format='%Y%m%d')\n",
    "\n",
    "print(f\"Factors data shape: {factors.shape}\")\n",
    "print(f\"Date range: {factors.index.min()} to {factors.index.max()}\")\n",
    "print(\"\\nFactors preview:\")\n",
    "print(factors.head())"
   ]
  },
  {
   "cell_type": "code",
   "execution_count": null,
   "id": "9eb877b4",
   "metadata": {},
   "outputs": [
    {
     "name": "stdout",
     "output_type": "stream",
     "text": [
      "\n",
      "Downloading Fama-French 49 Industry Portfolios...\n",
      "Industry 49 data shape: (5033, 49)\n",
      "Date range: 2005-01-03 00:00:00 to 2024-12-31 00:00:00\n",
      "\n",
      "Industry 49 preview:\n",
      "            Agric  Food  Soda  Beer  Smoke  Toys   Fun  Books  Hshld  Clths  \\\n",
      "Date                                                                          \n",
      "2005-01-03  -0.53 -1.12 -0.04 -0.32  -0.73 -2.73 -0.72  -1.13  -0.55  -0.89   \n",
      "2005-01-04  -1.87 -0.32 -0.96 -1.01   0.56 -0.76 -1.38  -0.38  -1.12  -1.37   \n",
      "2005-01-05  -1.08 -0.35 -1.07 -0.69  -0.18 -1.40 -0.44  -0.50  -0.02  -1.06   \n",
      "2005-01-06  -0.06  0.22  0.83  0.27  -0.58  0.44  0.92   0.70   0.70   0.42   \n",
      "2005-01-07  -0.54  0.33 -0.39  0.27   1.34 -1.43 -0.60  -0.16   0.70  -0.06   \n",
      "\n",
      "            ...  Boxes  Trans  Whlsl  Rtail  Meals  Banks  Insur  RlEst   Fin  \\\n",
      "Date        ...                                                                 \n",
      "2005-01-03  ...  -0.84  -1.21  -1.57   0.08  -0.94  -0.53  -0.55  -0.80 -0.60   \n",
      "2005-01-04  ...  -1.89  -2.17  -1.84  -1.13  -0.46  -1.04  -0.45  -1.93 -1.50   \n",
      "2005-01-05  ...  -2.07  -0.63  -0.89   0.00  -0.96  -0.37   0.19  -2.75 -0.54   \n",
      "2005-01-06  ...   0.35   0.28   0.54  -0.10   1.01   0.33   0.48   0.56  1.26   \n",
      "2005-01-07  ...  -0.80  -0.50  -0.66  -0.03  -0.23  -0.65  -0.41   0.41 -0.46   \n",
      "\n",
      "            Other  \n",
      "Date               \n",
      "2005-01-03  -0.26  \n",
      "2005-01-04  -1.34  \n",
      "2005-01-05  -0.55  \n",
      "2005-01-06   0.64  \n",
      "2005-01-07  -0.05  \n",
      "\n",
      "[5 rows x 49 columns]\n",
      "\n",
      "Industry names:\n",
      "['Agric', 'Food', 'Soda', 'Beer', 'Smoke', 'Toys', 'Fun', 'Books', 'Hshld', 'Clths', 'Hlth', 'MedEq', 'Drugs', 'Chems', 'Rubbr', 'Txtls', 'BldMt', 'Cnstr', 'Steel', 'FabPr', 'Mach', 'ElcEq', 'Autos', 'Aero', 'Ships', 'Guns', 'Gold', 'Mines', 'Coal', 'Oil', 'Util', 'Telcm', 'PerSv', 'BusSv', 'Hardw', 'Softw', 'Chips', 'LabEq', 'Paper', 'Boxes', 'Trans', 'Whlsl', 'Rtail', 'Meals', 'Banks', 'Insur', 'RlEst', 'Fin', 'Other']\n",
      "Industry 49 data shape: (5033, 49)\n",
      "Date range: 2005-01-03 00:00:00 to 2024-12-31 00:00:00\n",
      "\n",
      "Industry 49 preview:\n",
      "            Agric  Food  Soda  Beer  Smoke  Toys   Fun  Books  Hshld  Clths  \\\n",
      "Date                                                                          \n",
      "2005-01-03  -0.53 -1.12 -0.04 -0.32  -0.73 -2.73 -0.72  -1.13  -0.55  -0.89   \n",
      "2005-01-04  -1.87 -0.32 -0.96 -1.01   0.56 -0.76 -1.38  -0.38  -1.12  -1.37   \n",
      "2005-01-05  -1.08 -0.35 -1.07 -0.69  -0.18 -1.40 -0.44  -0.50  -0.02  -1.06   \n",
      "2005-01-06  -0.06  0.22  0.83  0.27  -0.58  0.44  0.92   0.70   0.70   0.42   \n",
      "2005-01-07  -0.54  0.33 -0.39  0.27   1.34 -1.43 -0.60  -0.16   0.70  -0.06   \n",
      "\n",
      "            ...  Boxes  Trans  Whlsl  Rtail  Meals  Banks  Insur  RlEst   Fin  \\\n",
      "Date        ...                                                                 \n",
      "2005-01-03  ...  -0.84  -1.21  -1.57   0.08  -0.94  -0.53  -0.55  -0.80 -0.60   \n",
      "2005-01-04  ...  -1.89  -2.17  -1.84  -1.13  -0.46  -1.04  -0.45  -1.93 -1.50   \n",
      "2005-01-05  ...  -2.07  -0.63  -0.89   0.00  -0.96  -0.37   0.19  -2.75 -0.54   \n",
      "2005-01-06  ...   0.35   0.28   0.54  -0.10   1.01   0.33   0.48   0.56  1.26   \n",
      "2005-01-07  ...  -0.80  -0.50  -0.66  -0.03  -0.23  -0.65  -0.41   0.41 -0.46   \n",
      "\n",
      "            Other  \n",
      "Date               \n",
      "2005-01-03  -0.26  \n",
      "2005-01-04  -1.34  \n",
      "2005-01-05  -0.55  \n",
      "2005-01-06   0.64  \n",
      "2005-01-07  -0.05  \n",
      "\n",
      "[5 rows x 49 columns]\n",
      "\n",
      "Industry names:\n",
      "['Agric', 'Food', 'Soda', 'Beer', 'Smoke', 'Toys', 'Fun', 'Books', 'Hshld', 'Clths', 'Hlth', 'MedEq', 'Drugs', 'Chems', 'Rubbr', 'Txtls', 'BldMt', 'Cnstr', 'Steel', 'FabPr', 'Mach', 'ElcEq', 'Autos', 'Aero', 'Ships', 'Guns', 'Gold', 'Mines', 'Coal', 'Oil', 'Util', 'Telcm', 'PerSv', 'BusSv', 'Hardw', 'Softw', 'Chips', 'LabEq', 'Paper', 'Boxes', 'Trans', 'Whlsl', 'Rtail', 'Meals', 'Banks', 'Insur', 'RlEst', 'Fin', 'Other']\n"
     ]
    }
   ],
   "source": [
    "# Fama-French 49 Industry Portfolio 다운로드 (일별 데이터)\n",
    "print(\"\\nDownloading Fama-French 49 Industry Portfolios (daily)...\")\n",
    "\n",
    "# 49 Industry Portfolio 다운로드 (일별 데이터)\n",
    "industry49 = web.DataReader('49_Industry_Portfolios_daily', 'famafrench', start_date, end_date)[0]\n",
    "\n",
    "# 날짜 인덱스를 날짜 형식으로 변환\n",
    "industry49.index = pd.to_datetime(industry49.index, format='%Y%m%d')\n",
    "\n",
    "print(f\"Industry 49 data shape: {industry49.shape}\")\n",
    "print(f\"Date range: {industry49.index.min()} to {industry49.index.max()}\")\n",
    "print(\"\\nIndustry 49 preview:\")\n",
    "print(industry49.head())\n",
    "print(\"\\nIndustry names:\")\n",
    "print(industry49.columns.tolist())"
   ]
  },
  {
   "cell_type": "code",
   "execution_count": null,
   "id": "48199ac3",
   "metadata": {},
   "outputs": [
    {
     "name": "stdout",
     "output_type": "stream",
     "text": [
      "\n",
      "Saving data to CSV files...\n",
      "Factors data saved to factors.csv\n",
      "Industry 49 portfolio data saved to industry49.csv\n",
      "\n",
      "Data download and save completed successfully!\n"
     ]
    }
   ],
   "source": [
    "# 데이터 저장\n",
    "print(\"\\nSaving data to CSV files...\")\n",
    "\n",
    "# factors.csv 저장\n",
    "factors.to_csv('factors.csv')\n",
    "print(\"Factors data saved to factors.csv\")\n",
    "\n",
    "# industry49.csv 저장  \n",
    "industry49.to_csv('industry49.csv')\n",
    "print(\"Industry 49 portfolio data saved to industry49.csv\")\n",
    "\n",
    "print(\"\\nData download and save completed successfully!\")"
   ]
  }
 ],
 "metadata": {
  "kernelspec": {
   "display_name": "ccpo",
   "language": "python",
   "name": "python3"
  },
  "language_info": {
   "codemirror_mode": {
    "name": "ipython",
    "version": 3
   },
   "file_extension": ".py",
   "mimetype": "text/x-python",
   "name": "python",
   "nbconvert_exporter": "python",
   "pygments_lexer": "ipython3",
   "version": "3.9.23"
  }
 },
 "nbformat": 4,
 "nbformat_minor": 5
}
